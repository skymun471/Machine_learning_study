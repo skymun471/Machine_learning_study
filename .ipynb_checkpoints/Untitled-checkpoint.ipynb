{
 "cells": [
  {
   "cell_type": "code",
   "execution_count": 2,
   "id": "a3cec9e4",
   "metadata": {},
   "outputs": [],
   "source": [
    "from sklearn.datasets import load_breast_cancer\n",
    "data = load_breast_cancer()"
   ]
  },
  {
   "cell_type": "code",
   "execution_count": 4,
   "id": "f15200ed-9241-417e-966f-475e72c5b7b4",
   "metadata": {},
   "outputs": [
    {
     "name": "stdout",
     "output_type": "stream",
     "text": [
      "[[1.799e+01 1.038e+01 1.228e+02 ... 2.654e-01 4.601e-01 1.189e-01]\n",
      " [2.057e+01 1.777e+01 1.329e+02 ... 1.860e-01 2.750e-01 8.902e-02]\n",
      " [1.969e+01 2.125e+01 1.300e+02 ... 2.430e-01 3.613e-01 8.758e-02]\n",
      " ...\n",
      " [1.660e+01 2.808e+01 1.083e+02 ... 1.418e-01 2.218e-01 7.820e-02]\n",
      " [2.060e+01 2.933e+01 1.401e+02 ... 2.650e-01 4.087e-01 1.240e-01]\n",
      " [7.760e+00 2.454e+01 4.792e+01 ... 0.000e+00 2.871e-01 7.039e-02]]\n"
     ]
    }
   ],
   "source": [
    "print(data.data)"
   ]
  },
  {
   "cell_type": "code",
   "execution_count": 5,
   "id": "f16dff21-6bbd-4b7b-a3dc-8b4c2d3be668",
   "metadata": {},
   "outputs": [
    {
     "name": "stdout",
     "output_type": "stream",
     "text": [
      "[0 0 0 0 0 0 0 0 0 0 0 0 0 0 0 0 0 0 0 1 1 1 0 0 0 0 0 0 0 0 0 0 0 0 0 0 0\n",
      " 1 0 0 0 0 0 0 0 0 1 0 1 1 1 1 1 0 0 1 0 0 1 1 1 1 0 1 0 0 1 1 1 1 0 1 0 0\n",
      " 1 0 1 0 0 1 1 1 0 0 1 0 0 0 1 1 1 0 1 1 0 0 1 1 1 0 0 1 1 1 1 0 1 1 0 1 1\n",
      " 1 1 1 1 1 1 0 0 0 1 0 0 1 1 1 0 0 1 0 1 0 0 1 0 0 1 1 0 1 1 0 1 1 1 1 0 1\n",
      " 1 1 1 1 1 1 1 1 0 1 1 1 1 0 0 1 0 1 1 0 0 1 1 0 0 1 1 1 1 0 1 1 0 0 0 1 0\n",
      " 1 0 1 1 1 0 1 1 0 0 1 0 0 0 0 1 0 0 0 1 0 1 0 1 1 0 1 0 0 0 0 1 1 0 0 1 1\n",
      " 1 0 1 1 1 1 1 0 0 1 1 0 1 1 0 0 1 0 1 1 1 1 0 1 1 1 1 1 0 1 0 0 0 0 0 0 0\n",
      " 0 0 0 0 0 0 0 1 1 1 1 1 1 0 1 0 1 1 0 1 1 0 1 0 0 1 1 1 1 1 1 1 1 1 1 1 1\n",
      " 1 0 1 1 0 1 0 1 1 1 1 1 1 1 1 1 1 1 1 1 1 0 1 1 1 0 1 0 1 1 1 1 0 0 0 1 1\n",
      " 1 1 0 1 0 1 0 1 1 1 0 1 1 1 1 1 1 1 0 0 0 1 1 1 1 1 1 1 1 1 1 1 0 0 1 0 0\n",
      " 0 1 0 0 1 1 1 1 1 0 1 1 1 1 1 0 1 1 1 0 1 1 0 0 1 1 1 1 1 1 0 1 1 1 1 1 1\n",
      " 1 0 1 1 1 1 1 0 1 1 0 1 1 1 1 1 1 1 1 1 1 1 1 0 1 0 0 1 0 1 1 1 1 1 0 1 1\n",
      " 0 1 0 1 1 0 1 0 1 1 1 1 1 1 1 1 0 0 1 1 1 1 1 1 0 1 1 1 1 1 1 1 1 1 1 0 1\n",
      " 1 1 1 1 1 1 0 1 0 1 1 0 1 1 1 1 1 0 0 1 0 1 0 1 1 1 1 1 0 1 1 0 1 0 1 0 0\n",
      " 1 1 1 0 1 1 1 1 1 1 1 1 1 1 1 0 1 0 0 1 1 1 1 1 1 1 1 1 1 1 1 1 1 1 1 1 1\n",
      " 1 1 1 1 1 1 1 0 0 0 0 0 0 1]\n"
     ]
    }
   ],
   "source": [
    "print(data.target)"
   ]
  },
  {
   "cell_type": "markdown",
   "id": "4ff8e447-7e6a-4103-a199-4caec9447b8d",
   "metadata": {},
   "source": [
    "### breast cancer data"
   ]
  },
  {
   "cell_type": "code",
   "execution_count": 6,
   "id": "d2b60f9d-1d3e-4ea9-8cb4-68e78839f55f",
   "metadata": {},
   "outputs": [],
   "source": [
    "from sklearn.model_selection import train_test_split\n",
    "train_input, test_input, train_target, test_target = train_test_split(data.data, data.target, random_state=42)"
   ]
  },
  {
   "cell_type": "markdown",
   "id": "c2cb1c5b-0534-4d0f-b2dd-9d3aef389f23",
   "metadata": {},
   "source": [
    "#### KNN"
   ]
  },
  {
   "cell_type": "code",
   "execution_count": null,
   "id": "6ab577d9-0365-4d36-adb0-4b068a119ea9",
   "metadata": {},
   "outputs": [
    {
     "data": {
      "text/plain": [
       "0.965034965034965"
      ]
     },
     "execution_count": 9,
     "metadata": {},
     "output_type": "execute_result"
    }
   ],
   "source": [
    "from sklearn.neighbors import KNeighborsClassifier\n",
    "kn = KNeighborsClassifier()\n",
    "kn.fit(train_input, train_target)\n",
    "kn.score(test_input, test_target)"
   ]
  },
  {
   "cell_type": "markdown",
   "id": "7b96c404-a32d-4e7e-b6a3-e560216ac5c0",
   "metadata": {},
   "source": [
    "#### DT"
   ]
  },
  {
   "cell_type": "code",
   "execution_count": 11,
   "id": "ed509d18-b003-4229-bad7-c28354944686",
   "metadata": {},
   "outputs": [
    {
     "data": {
      "text/plain": [
       "0.9440559440559441"
      ]
     },
     "execution_count": 11,
     "metadata": {},
     "output_type": "execute_result"
    }
   ],
   "source": [
    "from sklearn import tree\n",
    "clf = tree.DecisionTreeClassifier()\n",
    "clf = clf.fit(train_input, train_target)\n",
    "clf.score(test_input, test_target)"
   ]
  },
  {
   "cell_type": "code",
   "execution_count": 12,
   "id": "cfac96b2-f75a-4bd3-8988-616ca3618af3",
   "metadata": {},
   "outputs": [
    {
     "data": {
      "text/plain": [
       "[Text(209.25, 203.85, 'X[7] <= 0.051\\ngini = 0.467\\nsamples = 426\\nvalue = [158, 268]'),\n",
       " Text(144.57272727272726, 176.67000000000002, 'X[20] <= 16.83\\ngini = 0.113\\nsamples = 267\\nvalue = [16, 251]'),\n",
       " Text(106.52727272727273, 149.49, 'X[13] <= 48.7\\ngini = 0.039\\nsamples = 249\\nvalue = [5, 244]'),\n",
       " Text(76.0909090909091, 122.31, 'X[24] <= 0.178\\ngini = 0.024\\nsamples = 246\\nvalue = [3, 243]'),\n",
       " Text(60.872727272727275, 95.13, 'X[14] <= 0.003\\ngini = 0.016\\nsamples = 245\\nvalue = [2, 243]'),\n",
       " Text(30.436363636363637, 67.94999999999999, 'X[1] <= 19.9\\ngini = 0.278\\nsamples = 6\\nvalue = [1, 5]'),\n",
       " Text(15.218181818181819, 40.77000000000001, 'gini = 0.0\\nsamples = 5\\nvalue = [0, 5]'),\n",
       " Text(45.654545454545456, 40.77000000000001, 'gini = 0.0\\nsamples = 1\\nvalue = [1, 0]'),\n",
       " Text(91.30909090909091, 67.94999999999999, 'X[21] <= 33.35\\ngini = 0.008\\nsamples = 239\\nvalue = [1, 238]'),\n",
       " Text(76.0909090909091, 40.77000000000001, 'gini = 0.0\\nsamples = 225\\nvalue = [0, 225]'),\n",
       " Text(106.52727272727273, 40.77000000000001, 'X[21] <= 33.56\\ngini = 0.133\\nsamples = 14\\nvalue = [1, 13]'),\n",
       " Text(91.30909090909091, 13.590000000000003, 'gini = 0.0\\nsamples = 1\\nvalue = [1, 0]'),\n",
       " Text(121.74545454545455, 13.590000000000003, 'gini = 0.0\\nsamples = 13\\nvalue = [0, 13]'),\n",
       " Text(91.30909090909091, 95.13, 'gini = 0.0\\nsamples = 1\\nvalue = [1, 0]'),\n",
       " Text(136.96363636363637, 122.31, 'X[8] <= 0.166\\ngini = 0.444\\nsamples = 3\\nvalue = [2, 1]'),\n",
       " Text(121.74545454545455, 95.13, 'gini = 0.0\\nsamples = 2\\nvalue = [2, 0]'),\n",
       " Text(152.1818181818182, 95.13, 'gini = 0.0\\nsamples = 1\\nvalue = [0, 1]'),\n",
       " Text(182.61818181818182, 149.49, 'X[21] <= 19.91\\ngini = 0.475\\nsamples = 18\\nvalue = [11, 7]'),\n",
       " Text(167.4, 122.31, 'gini = 0.0\\nsamples = 5\\nvalue = [0, 5]'),\n",
       " Text(197.83636363636364, 122.31, 'X[17] <= 0.01\\ngini = 0.26\\nsamples = 13\\nvalue = [11, 2]'),\n",
       " Text(182.61818181818182, 95.13, 'gini = 0.0\\nsamples = 11\\nvalue = [11, 0]'),\n",
       " Text(213.05454545454546, 95.13, 'gini = 0.0\\nsamples = 2\\nvalue = [0, 2]'),\n",
       " Text(273.92727272727274, 176.67000000000002, 'X[21] <= 20.405\\ngini = 0.191\\nsamples = 159\\nvalue = [142, 17]'),\n",
       " Text(243.4909090909091, 149.49, 'X[27] <= 0.158\\ngini = 0.408\\nsamples = 14\\nvalue = [4, 10]'),\n",
       " Text(228.27272727272728, 122.31, 'gini = 0.0\\nsamples = 10\\nvalue = [0, 10]'),\n",
       " Text(258.70909090909095, 122.31, 'gini = 0.0\\nsamples = 4\\nvalue = [4, 0]'),\n",
       " Text(304.3636363636364, 149.49, 'X[23] <= 718.65\\ngini = 0.092\\nsamples = 145\\nvalue = [138, 7]'),\n",
       " Text(289.1454545454545, 122.31, 'X[21] <= 25.925\\ngini = 0.497\\nsamples = 13\\nvalue = [6, 7]'),\n",
       " Text(273.92727272727274, 95.13, 'gini = 0.0\\nsamples = 7\\nvalue = [0, 7]'),\n",
       " Text(304.3636363636364, 95.13, 'gini = 0.0\\nsamples = 6\\nvalue = [6, 0]'),\n",
       " Text(319.5818181818182, 122.31, 'gini = 0.0\\nsamples = 132\\nvalue = [132, 0]')]"
      ]
     },
     "execution_count": 12,
     "metadata": {},
     "output_type": "execute_result"
    },
    {
     "data": {
      "image/png": "[encoded data removed]",
      "text/plain": [
       "<Figure size 432x288 with 1 Axes>"
      ]
     },
     "metadata": {
      "needs_background": "light"
     },
     "output_type": "display_data"
    }
   ],
   "source": [
    "tree.plot_tree(clf)"
   ]
  },
  {
   "cell_type": "markdown",
   "id": "39c1885a-1ef4-46cb-bb05-dbfbabd7f2cf",
   "metadata": {},
   "source": [
    "#### SVM"
   ]
  },
  {
   "cell_type": "code",
   "execution_count": 15,
   "id": "a8a5ea45-28cc-4eda-b2ed-859439c7aeb5",
   "metadata": {},
   "outputs": [
    {
     "data": {
      "text/plain": [
       "SVC()"
      ]
     },
     "execution_count": 15,
     "metadata": {},
     "output_type": "execute_result"
    }
   ],
   "source": [
    " from sklearn import svm\n",
    "clf = svm.SVC()\n",
    "clf.fit(train_input, train_target)"
   ]
  },
  {
   "cell_type": "code",
   "execution_count": 16,
   "id": "9cf4a369-6127-4817-8dd6-3f14153f6f2c",
   "metadata": {},
   "outputs": [
    {
     "data": {
      "text/plain": [
       "array([1, 0, 0, 1, 1, 0, 0, 0, 1, 1, 1, 0, 1, 0, 1, 0, 1, 1, 1, 0, 1, 1,\n",
       "       0, 1, 1, 1, 1, 1, 1, 0, 1, 1, 1, 1, 1, 1, 0, 1, 0, 1, 1, 0, 1, 1,\n",
       "       1, 1, 1, 1, 1, 1, 0, 0, 1, 1, 1, 1, 1, 0, 1, 1, 1, 0, 0, 1, 1, 1,\n",
       "       0, 0, 1, 1, 1, 0, 1, 0, 1, 1, 1, 1, 1, 1, 0, 1, 1, 0, 0, 0, 1, 0,\n",
       "       1, 1, 1, 1, 1, 1, 1, 1, 0, 0, 1, 0, 0, 1, 0, 0, 1, 1, 1, 0, 1, 1,\n",
       "       0, 1, 1, 0, 1, 0, 1, 1, 1, 0, 1, 1, 1, 0, 1, 0, 0, 1, 1, 0, 0, 0,\n",
       "       1, 1, 0, 0, 1, 1, 1, 0, 1, 0, 1])"
      ]
     },
     "execution_count": 16,
     "metadata": {},
     "output_type": "execute_result"
    }
   ],
   "source": [
    "clf.predict(test_input)"
   ]
  },
  {
   "cell_type": "code",
   "execution_count": 20,
   "id": "56707c38-c574-45b9-be34-b6d1a5df8a3b",
   "metadata": {},
   "outputs": [
    {
     "data": {
      "text/plain": [
       "0.951048951048951"
      ]
     },
     "execution_count": 20,
     "metadata": {},
     "output_type": "execute_result"
    }
   ],
   "source": [
    "clf.score(test_input, test_target)"
   ]
  },
  {
   "cell_type": "markdown",
   "id": "5aa680d7-c1db-4fc3-b4f8-a2353bfb6155",
   "metadata": {},
   "source": [
    "#### LR"
   ]
  },
  {
   "cell_type": "code",
   "execution_count": 22,
   "id": "42902434-14e4-4872-9c81-6d797be5e3e3",
   "metadata": {},
   "outputs": [
    {
     "data": {
      "text/plain": [
       "0.732407887466512"
      ]
     },
     "execution_count": 22,
     "metadata": {},
     "output_type": "execute_result"
    }
   ],
   "source": [
    "from sklearn.linear_model import LinearRegression\n",
    "reg = LinearRegression().fit(train_input, train_target)\n",
    "reg.score(test_input, test_target)"
   ]
  },
  {
   "cell_type": "code",
   "execution_count": null,
   "id": "d80ed516-864f-48d3-a7f8-2784c15f48a5",
   "metadata": {},
   "outputs": [],
   "source": []
  }
 ],
 "metadata": {
  "kernelspec": {
   "display_name": "Python 3 (ipykernel)",
   "language": "python",
   "name": "python3"
  },
  "language_info": {
   "codemirror_mode": {
    "name": "ipython",
    "version": 3
   },
   "file_extension": ".py",
   "mimetype": "text/x-python",
   "name": "python",
   "nbconvert_exporter": "python",
   "pygments_lexer": "ipython3",
   "version": "3.9.7"
  },
  "toc": {
   "base_numbering": 1,
   "nav_menu": {},
   "number_sections": true,
   "sideBar": true,
   "skip_h1_title": false,
   "title_cell": "Table of Contents",
   "title_sidebar": "Contents",
   "toc_cell": false,
   "toc_position": {},
   "toc_section_display": true,
   "toc_window_display": false
  },
  "varInspector": {
   "cols": {
    "lenName": 16,
    "lenType": 16,
    "lenVar": 40
   },
   "kernels_config": {
    "python": {
     "delete_cmd_postfix": "",
     "delete_cmd_prefix": "del ",
     "library": "var_list.py",
     "varRefreshCmd": "print(var_dic_list())"
    },
    "r": {
     "delete_cmd_postfix": ") ",
     "delete_cmd_prefix": "rm(",
     "library": "var_list.r",
     "varRefreshCmd": "cat(var_dic_list()) "
    }
   },
   "types_to_exclude": [
    "module",
    "function",
    "builtin_function_or_method",
    "instance",
    "_Feature"
   ],
   "window_display": false
  }
 },
 "nbformat": 4,
 "nbformat_minor": 5
}
